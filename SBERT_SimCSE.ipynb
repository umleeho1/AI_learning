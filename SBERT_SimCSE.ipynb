{
  "nbformat": 4,
  "nbformat_minor": 0,
  "metadata": {
    "colab": {
      "provenance": [],
      "include_colab_link": true
    },
    "kernelspec": {
      "name": "python3",
      "display_name": "Python 3"
    },
    "language_info": {
      "name": "python"
    },
    "accelerator": "GPU",
    "widgets": {
      "application/vnd.jupyter.widget-state+json": {
        "062d70cd78794e47ba8ab13f45a16402": {
          "model_module": "@jupyter-widgets/controls",
          "model_name": "HBoxModel",
          "state": {
            "_view_name": "HBoxView",
            "_dom_classes": [],
            "_model_name": "HBoxModel",
            "_view_module": "@jupyter-widgets/controls",
            "_model_module_version": "1.5.0",
            "_view_count": null,
            "_view_module_version": "1.5.0",
            "box_style": "",
            "layout": "IPY_MODEL_8d938bbfdaab440bb8d309f60ee883cf",
            "_model_module": "@jupyter-widgets/controls",
            "children": [
              "IPY_MODEL_86d8d12811c7483ba140b5ace098799c",
              "IPY_MODEL_08f93f75346549058d6056a420ab8e82"
            ]
          },
          "model_module_version": "1.5.0"
        },
        "8d938bbfdaab440bb8d309f60ee883cf": {
          "model_module": "@jupyter-widgets/base",
          "model_name": "LayoutModel",
          "state": {
            "_view_name": "LayoutView",
            "grid_template_rows": null,
            "right": null,
            "justify_content": null,
            "_view_module": "@jupyter-widgets/base",
            "overflow": null,
            "_model_module_version": "1.2.0",
            "_view_count": null,
            "flex_flow": null,
            "width": null,
            "min_width": null,
            "border": null,
            "align_items": null,
            "bottom": null,
            "_model_module": "@jupyter-widgets/base",
            "top": null,
            "grid_column": null,
            "overflow_y": null,
            "overflow_x": null,
            "grid_auto_flow": null,
            "grid_area": null,
            "grid_template_columns": null,
            "flex": null,
            "_model_name": "LayoutModel",
            "justify_items": null,
            "grid_row": null,
            "max_height": null,
            "align_content": null,
            "visibility": null,
            "align_self": null,
            "height": null,
            "min_height": null,
            "padding": null,
            "grid_auto_rows": null,
            "grid_gap": null,
            "max_width": null,
            "order": null,
            "_view_module_version": "1.2.0",
            "grid_template_areas": null,
            "object_position": null,
            "object_fit": null,
            "grid_auto_columns": null,
            "margin": null,
            "display": null,
            "left": null
          },
          "model_module_version": "1.2.0"
        },
        "86d8d12811c7483ba140b5ace098799c": {
          "model_module": "@jupyter-widgets/controls",
          "model_name": "FloatProgressModel",
          "state": {
            "_view_name": "ProgressView",
            "style": "IPY_MODEL_3ba537e140f44b059721f17f11b19340",
            "_dom_classes": [],
            "description": "Epoch:   0%",
            "_model_name": "FloatProgressModel",
            "bar_style": "",
            "max": 1,
            "_view_module": "@jupyter-widgets/controls",
            "_model_module_version": "1.5.0",
            "value": 0,
            "_view_count": null,
            "_view_module_version": "1.5.0",
            "orientation": "horizontal",
            "min": 0,
            "description_tooltip": null,
            "_model_module": "@jupyter-widgets/controls",
            "layout": "IPY_MODEL_67587012420b4c46be63f4e5b03cad11"
          },
          "model_module_version": "1.5.0"
        },
        "08f93f75346549058d6056a420ab8e82": {
          "model_module": "@jupyter-widgets/controls",
          "model_name": "HTMLModel",
          "state": {
            "_view_name": "HTMLView",
            "style": "IPY_MODEL_928fe685bca0446ebe7f8ed47cecca43",
            "_dom_classes": [],
            "description": "",
            "_model_name": "HTMLModel",
            "placeholder": "​",
            "_view_module": "@jupyter-widgets/controls",
            "_model_module_version": "1.5.0",
            "value": " 0/1 [00:00&lt;?, ?it/s]",
            "_view_count": null,
            "_view_module_version": "1.5.0",
            "description_tooltip": null,
            "_model_module": "@jupyter-widgets/controls",
            "layout": "IPY_MODEL_2181deecd2504cafb5fd1b965671b1ad"
          },
          "model_module_version": "1.5.0"
        },
        "3ba537e140f44b059721f17f11b19340": {
          "model_module": "@jupyter-widgets/controls",
          "model_name": "ProgressStyleModel",
          "state": {
            "_view_name": "StyleView",
            "_model_name": "ProgressStyleModel",
            "description_width": "initial",
            "_view_module": "@jupyter-widgets/base",
            "_model_module_version": "1.5.0",
            "_view_count": null,
            "_view_module_version": "1.2.0",
            "bar_color": null,
            "_model_module": "@jupyter-widgets/controls"
          },
          "model_module_version": "1.5.0"
        },
        "67587012420b4c46be63f4e5b03cad11": {
          "model_module": "@jupyter-widgets/base",
          "model_name": "LayoutModel",
          "state": {
            "_view_name": "LayoutView",
            "grid_template_rows": null,
            "right": null,
            "justify_content": null,
            "_view_module": "@jupyter-widgets/base",
            "overflow": null,
            "_model_module_version": "1.2.0",
            "_view_count": null,
            "flex_flow": null,
            "width": null,
            "min_width": null,
            "border": null,
            "align_items": null,
            "bottom": null,
            "_model_module": "@jupyter-widgets/base",
            "top": null,
            "grid_column": null,
            "overflow_y": null,
            "overflow_x": null,
            "grid_auto_flow": null,
            "grid_area": null,
            "grid_template_columns": null,
            "flex": null,
            "_model_name": "LayoutModel",
            "justify_items": null,
            "grid_row": null,
            "max_height": null,
            "align_content": null,
            "visibility": null,
            "align_self": null,
            "height": null,
            "min_height": null,
            "padding": null,
            "grid_auto_rows": null,
            "grid_gap": null,
            "max_width": null,
            "order": null,
            "_view_module_version": "1.2.0",
            "grid_template_areas": null,
            "object_position": null,
            "object_fit": null,
            "grid_auto_columns": null,
            "margin": null,
            "display": null,
            "left": null
          },
          "model_module_version": "1.2.0"
        },
        "928fe685bca0446ebe7f8ed47cecca43": {
          "model_module": "@jupyter-widgets/controls",
          "model_name": "DescriptionStyleModel",
          "state": {
            "_view_name": "StyleView",
            "_model_name": "DescriptionStyleModel",
            "description_width": "",
            "_view_module": "@jupyter-widgets/base",
            "_model_module_version": "1.5.0",
            "_view_count": null,
            "_view_module_version": "1.2.0",
            "_model_module": "@jupyter-widgets/controls"
          },
          "model_module_version": "1.5.0"
        },
        "2181deecd2504cafb5fd1b965671b1ad": {
          "model_module": "@jupyter-widgets/base",
          "model_name": "LayoutModel",
          "state": {
            "_view_name": "LayoutView",
            "grid_template_rows": null,
            "right": null,
            "justify_content": null,
            "_view_module": "@jupyter-widgets/base",
            "overflow": null,
            "_model_module_version": "1.2.0",
            "_view_count": null,
            "flex_flow": null,
            "width": null,
            "min_width": null,
            "border": null,
            "align_items": null,
            "bottom": null,
            "_model_module": "@jupyter-widgets/base",
            "top": null,
            "grid_column": null,
            "overflow_y": null,
            "overflow_x": null,
            "grid_auto_flow": null,
            "grid_area": null,
            "grid_template_columns": null,
            "flex": null,
            "_model_name": "LayoutModel",
            "justify_items": null,
            "grid_row": null,
            "max_height": null,
            "align_content": null,
            "visibility": null,
            "align_self": null,
            "height": null,
            "min_height": null,
            "padding": null,
            "grid_auto_rows": null,
            "grid_gap": null,
            "max_width": null,
            "order": null,
            "_view_module_version": "1.2.0",
            "grid_template_areas": null,
            "object_position": null,
            "object_fit": null,
            "grid_auto_columns": null,
            "margin": null,
            "display": null,
            "left": null
          },
          "model_module_version": "1.2.0"
        },
        "1a0863889bb24ae091b1afe6a603c7c1": {
          "model_module": "@jupyter-widgets/controls",
          "model_name": "HBoxModel",
          "state": {
            "_view_name": "HBoxView",
            "_dom_classes": [],
            "_model_name": "HBoxModel",
            "_view_module": "@jupyter-widgets/controls",
            "_model_module_version": "1.5.0",
            "_view_count": null,
            "_view_module_version": "1.5.0",
            "box_style": "",
            "layout": "IPY_MODEL_fe62666225ef40afb7c3c5325f775364",
            "_model_module": "@jupyter-widgets/controls",
            "children": [
              "IPY_MODEL_77b1124e62114593b0ef0af1a427cfb3",
              "IPY_MODEL_9fa71da836dd4eb9aceaf0dc6f702b90"
            ]
          },
          "model_module_version": "1.5.0"
        },
        "fe62666225ef40afb7c3c5325f775364": {
          "model_module": "@jupyter-widgets/base",
          "model_name": "LayoutModel",
          "state": {
            "_view_name": "LayoutView",
            "grid_template_rows": null,
            "right": null,
            "justify_content": null,
            "_view_module": "@jupyter-widgets/base",
            "overflow": null,
            "_model_module_version": "1.2.0",
            "_view_count": null,
            "flex_flow": null,
            "width": null,
            "min_width": null,
            "border": null,
            "align_items": null,
            "bottom": null,
            "_model_module": "@jupyter-widgets/base",
            "top": null,
            "grid_column": null,
            "overflow_y": null,
            "overflow_x": null,
            "grid_auto_flow": null,
            "grid_area": null,
            "grid_template_columns": null,
            "flex": null,
            "_model_name": "LayoutModel",
            "justify_items": null,
            "grid_row": null,
            "max_height": null,
            "align_content": null,
            "visibility": null,
            "align_self": null,
            "height": null,
            "min_height": null,
            "padding": null,
            "grid_auto_rows": null,
            "grid_gap": null,
            "max_width": null,
            "order": null,
            "_view_module_version": "1.2.0",
            "grid_template_areas": null,
            "object_position": null,
            "object_fit": null,
            "grid_auto_columns": null,
            "margin": null,
            "display": null,
            "left": null
          },
          "model_module_version": "1.2.0"
        },
        "77b1124e62114593b0ef0af1a427cfb3": {
          "model_module": "@jupyter-widgets/controls",
          "model_name": "FloatProgressModel",
          "state": {
            "_view_name": "ProgressView",
            "style": "IPY_MODEL_ff039499a5a348d9994d613d671c09fe",
            "_dom_classes": [],
            "description": "Iteration:   6%",
            "_model_name": "FloatProgressModel",
            "bar_style": "",
            "max": 29440,
            "_view_module": "@jupyter-widgets/controls",
            "_model_module_version": "1.5.0",
            "value": 1646,
            "_view_count": null,
            "_view_module_version": "1.5.0",
            "orientation": "horizontal",
            "min": 0,
            "description_tooltip": null,
            "_model_module": "@jupyter-widgets/controls",
            "layout": "IPY_MODEL_a5d5642c40304b9094d27deabd1c8624"
          },
          "model_module_version": "1.5.0"
        },
        "9fa71da836dd4eb9aceaf0dc6f702b90": {
          "model_module": "@jupyter-widgets/controls",
          "model_name": "HTMLModel",
          "state": {
            "_view_name": "HTMLView",
            "style": "IPY_MODEL_1489a51530694e52a12f662476b67105",
            "_dom_classes": [],
            "description": "",
            "_model_name": "HTMLModel",
            "placeholder": "​",
            "_view_module": "@jupyter-widgets/controls",
            "_model_module_version": "1.5.0",
            "value": " 1646/29440 [10:34&lt;2:46:25,  2.78it/s]",
            "_view_count": null,
            "_view_module_version": "1.5.0",
            "description_tooltip": null,
            "_model_module": "@jupyter-widgets/controls",
            "layout": "IPY_MODEL_2794f6f3ab574644af72f9ffd547e2b2"
          },
          "model_module_version": "1.5.0"
        },
        "ff039499a5a348d9994d613d671c09fe": {
          "model_module": "@jupyter-widgets/controls",
          "model_name": "ProgressStyleModel",
          "state": {
            "_view_name": "StyleView",
            "_model_name": "ProgressStyleModel",
            "description_width": "initial",
            "_view_module": "@jupyter-widgets/base",
            "_model_module_version": "1.5.0",
            "_view_count": null,
            "_view_module_version": "1.2.0",
            "bar_color": null,
            "_model_module": "@jupyter-widgets/controls"
          },
          "model_module_version": "1.5.0"
        },
        "a5d5642c40304b9094d27deabd1c8624": {
          "model_module": "@jupyter-widgets/base",
          "model_name": "LayoutModel",
          "state": {
            "_view_name": "LayoutView",
            "grid_template_rows": null,
            "right": null,
            "justify_content": null,
            "_view_module": "@jupyter-widgets/base",
            "overflow": null,
            "_model_module_version": "1.2.0",
            "_view_count": null,
            "flex_flow": null,
            "width": null,
            "min_width": null,
            "border": null,
            "align_items": null,
            "bottom": null,
            "_model_module": "@jupyter-widgets/base",
            "top": null,
            "grid_column": null,
            "overflow_y": null,
            "overflow_x": null,
            "grid_auto_flow": null,
            "grid_area": null,
            "grid_template_columns": null,
            "flex": null,
            "_model_name": "LayoutModel",
            "justify_items": null,
            "grid_row": null,
            "max_height": null,
            "align_content": null,
            "visibility": null,
            "align_self": null,
            "height": null,
            "min_height": null,
            "padding": null,
            "grid_auto_rows": null,
            "grid_gap": null,
            "max_width": null,
            "order": null,
            "_view_module_version": "1.2.0",
            "grid_template_areas": null,
            "object_position": null,
            "object_fit": null,
            "grid_auto_columns": null,
            "margin": null,
            "display": null,
            "left": null
          },
          "model_module_version": "1.2.0"
        },
        "1489a51530694e52a12f662476b67105": {
          "model_module": "@jupyter-widgets/controls",
          "model_name": "DescriptionStyleModel",
          "state": {
            "_view_name": "StyleView",
            "_model_name": "DescriptionStyleModel",
            "description_width": "",
            "_view_module": "@jupyter-widgets/base",
            "_model_module_version": "1.5.0",
            "_view_count": null,
            "_view_module_version": "1.2.0",
            "_model_module": "@jupyter-widgets/controls"
          },
          "model_module_version": "1.5.0"
        },
        "2794f6f3ab574644af72f9ffd547e2b2": {
          "model_module": "@jupyter-widgets/base",
          "model_name": "LayoutModel",
          "state": {
            "_view_name": "LayoutView",
            "grid_template_rows": null,
            "right": null,
            "justify_content": null,
            "_view_module": "@jupyter-widgets/base",
            "overflow": null,
            "_model_module_version": "1.2.0",
            "_view_count": null,
            "flex_flow": null,
            "width": null,
            "min_width": null,
            "border": null,
            "align_items": null,
            "bottom": null,
            "_model_module": "@jupyter-widgets/base",
            "top": null,
            "grid_column": null,
            "overflow_y": null,
            "overflow_x": null,
            "grid_auto_flow": null,
            "grid_area": null,
            "grid_template_columns": null,
            "flex": null,
            "_model_name": "LayoutModel",
            "justify_items": null,
            "grid_row": null,
            "max_height": null,
            "align_content": null,
            "visibility": null,
            "align_self": null,
            "height": null,
            "min_height": null,
            "padding": null,
            "grid_auto_rows": null,
            "grid_gap": null,
            "max_width": null,
            "order": null,
            "_view_module_version": "1.2.0",
            "grid_template_areas": null,
            "object_position": null,
            "object_fit": null,
            "grid_auto_columns": null,
            "margin": null,
            "display": null,
            "left": null
          },
          "model_module_version": "1.2.0"
        }
      }
    }
  },
  "cells": [
    {
      "cell_type": "markdown",
      "metadata": {
        "id": "view-in-github",
        "colab_type": "text"
      },
      "source": [
        "<a href=\"https://colab.research.google.com/github/umleeho1/AI_learning/blob/main/SBERT_SimCSE.ipynb\" target=\"_parent\"><img src=\"https://colab.research.google.com/assets/colab-badge.svg\" alt=\"Open In Colab\"/></a>"
      ]
    },
    {
      "cell_type": "markdown",
      "metadata": {
        "id": "ueStylIR6wZh"
      },
      "source": [
        "# SimCSE with SBERT"
      ]
    },
    {
      "cell_type": "code",
      "metadata": {
        "colab": {
          "base_uri": "https://localhost:8080/"
        },
        "id": "VFWTQ_XA6dL5",
        "outputId": "1b552911-8732-4d77-8255-c6c573b78a95"
      },
      "source": [
        "!pip install sentence-transformers"
      ],
      "execution_count": null,
      "outputs": [
        {
          "output_type": "stream",
          "text": [
            "Requirement already satisfied: sentence-transformers in /usr/local/lib/python3.7/dist-packages (1.0.4)\n",
            "Requirement already satisfied: torch>=1.6.0 in /usr/local/lib/python3.7/dist-packages (from sentence-transformers) (1.8.1+cu101)\n",
            "Requirement already satisfied: nltk in /usr/local/lib/python3.7/dist-packages (from sentence-transformers) (3.2.5)\n",
            "Requirement already satisfied: numpy in /usr/local/lib/python3.7/dist-packages (from sentence-transformers) (1.19.5)\n",
            "Requirement already satisfied: sentencepiece in /usr/local/lib/python3.7/dist-packages (from sentence-transformers) (0.1.95)\n",
            "Requirement already satisfied: scikit-learn in /usr/local/lib/python3.7/dist-packages (from sentence-transformers) (0.22.2.post1)\n",
            "Requirement already satisfied: tqdm in /usr/local/lib/python3.7/dist-packages (from sentence-transformers) (4.41.1)\n",
            "Requirement already satisfied: transformers<5.0.0,>=3.1.0 in /usr/local/lib/python3.7/dist-packages (from sentence-transformers) (4.5.1)\n",
            "Requirement already satisfied: scipy in /usr/local/lib/python3.7/dist-packages (from sentence-transformers) (1.4.1)\n",
            "Requirement already satisfied: typing-extensions in /usr/local/lib/python3.7/dist-packages (from torch>=1.6.0->sentence-transformers) (3.7.4.3)\n",
            "Requirement already satisfied: six in /usr/local/lib/python3.7/dist-packages (from nltk->sentence-transformers) (1.15.0)\n",
            "Requirement already satisfied: joblib>=0.11 in /usr/local/lib/python3.7/dist-packages (from scikit-learn->sentence-transformers) (1.0.1)\n",
            "Requirement already satisfied: packaging in /usr/local/lib/python3.7/dist-packages (from transformers<5.0.0,>=3.1.0->sentence-transformers) (20.9)\n",
            "Requirement already satisfied: sacremoses in /usr/local/lib/python3.7/dist-packages (from transformers<5.0.0,>=3.1.0->sentence-transformers) (0.0.45)\n",
            "Requirement already satisfied: importlib-metadata; python_version < \"3.8\" in /usr/local/lib/python3.7/dist-packages (from transformers<5.0.0,>=3.1.0->sentence-transformers) (3.10.1)\n",
            "Requirement already satisfied: tokenizers<0.11,>=0.10.1 in /usr/local/lib/python3.7/dist-packages (from transformers<5.0.0,>=3.1.0->sentence-transformers) (0.10.2)\n",
            "Requirement already satisfied: filelock in /usr/local/lib/python3.7/dist-packages (from transformers<5.0.0,>=3.1.0->sentence-transformers) (3.0.12)\n",
            "Requirement already satisfied: requests in /usr/local/lib/python3.7/dist-packages (from transformers<5.0.0,>=3.1.0->sentence-transformers) (2.23.0)\n",
            "Requirement already satisfied: regex!=2019.12.17 in /usr/local/lib/python3.7/dist-packages (from transformers<5.0.0,>=3.1.0->sentence-transformers) (2019.12.20)\n",
            "Requirement already satisfied: pyparsing>=2.0.2 in /usr/local/lib/python3.7/dist-packages (from packaging->transformers<5.0.0,>=3.1.0->sentence-transformers) (2.4.7)\n",
            "Requirement already satisfied: click in /usr/local/lib/python3.7/dist-packages (from sacremoses->transformers<5.0.0,>=3.1.0->sentence-transformers) (7.1.2)\n",
            "Requirement already satisfied: zipp>=0.5 in /usr/local/lib/python3.7/dist-packages (from importlib-metadata; python_version < \"3.8\"->transformers<5.0.0,>=3.1.0->sentence-transformers) (3.4.1)\n",
            "Requirement already satisfied: idna<3,>=2.5 in /usr/local/lib/python3.7/dist-packages (from requests->transformers<5.0.0,>=3.1.0->sentence-transformers) (2.10)\n",
            "Requirement already satisfied: certifi>=2017.4.17 in /usr/local/lib/python3.7/dist-packages (from requests->transformers<5.0.0,>=3.1.0->sentence-transformers) (2020.12.5)\n",
            "Requirement already satisfied: chardet<4,>=3.0.2 in /usr/local/lib/python3.7/dist-packages (from requests->transformers<5.0.0,>=3.1.0->sentence-transformers) (3.0.4)\n",
            "Requirement already satisfied: urllib3!=1.25.0,!=1.25.1,<1.26,>=1.21.1 in /usr/local/lib/python3.7/dist-packages (from requests->transformers<5.0.0,>=3.1.0->sentence-transformers) (1.24.3)\n"
          ],
          "name": "stdout"
        }
      ]
    },
    {
      "cell_type": "code",
      "metadata": {
        "colab": {
          "base_uri": "https://localhost:8080/"
        },
        "id": "SsBxs9dJ6hkC",
        "outputId": "88fbbe88-65b2-4694-f521-c14eaf3be0d0"
      },
      "source": [
        "from torch.utils.data import DataLoader\n",
        "import math\n",
        "from sentence_transformers import models, losses\n",
        "from sentence_transformers import LoggingHandler, SentenceTransformer, util, InputExample\n",
        "from sentence_transformers.evaluation import EmbeddingSimilarityEvaluator\n",
        "import logging\n",
        "from datetime import datetime\n",
        "import os\n",
        "import gzip\n",
        "import csv\n",
        "\n",
        "#### Just some code to print debug information to stdout\n",
        "logging.basicConfig(format='%(asctime)s - %(message)s',\n",
        "                    datefmt='%Y-%m-%d %H:%M:%S',\n",
        "                    level=logging.INFO,\n",
        "                    handlers=[LoggingHandler()])\n",
        "#### /print debug information to stdout\n",
        "\n",
        "#Check if dataset exsist. If not, download and extract  it\n",
        "nli_dataset_path = 'datasets/AllNLI.tsv.gz'\n",
        "sts_dataset_path = 'datasets/stsbenchmark.tsv.gz'\n",
        "\n",
        "if not os.path.exists(nli_dataset_path):\n",
        "    util.http_get('https://sbert.net/datasets/AllNLI.tsv.gz', nli_dataset_path)\n",
        "\n",
        "if not os.path.exists(sts_dataset_path):\n",
        "    util.http_get('https://sbert.net/datasets/stsbenchmark.tsv.gz', sts_dataset_path)\n",
        "\n",
        "\n",
        "#You can specify any huggingface/transformers pre-trained model here, for example, bert-base-uncased, roberta-base, xlm-roberta-base\n",
        "model_name = 'distilbert-base-uncased'\n",
        "\n",
        "model_save_path = 'output/training_simcse-'+datetime.now().strftime(\"%Y-%m-%d_%H-%M-%S\")\n",
        "\n",
        "# Use Huggingface/transformers model (like BERT, RoBERTa, XLNet, XLM-R) for mapping tokens to embeddings\n",
        "word_embedding_model = models.Transformer(model_name, max_seq_length=64)\n",
        "\n",
        "# Apply mean pooling to get one fixed sized sentence vector\n",
        "pooling_model = models.Pooling(word_embedding_model.get_word_embedding_dimension())\n",
        "model = SentenceTransformer(modules=[word_embedding_model, pooling_model])\n"
      ],
      "execution_count": null,
      "outputs": [
        {
          "output_type": "stream",
          "text": [
            "2021-04-20 20:22:46 - Use pytorch device: cuda\n"
          ],
          "name": "stdout"
        }
      ]
    },
    {
      "cell_type": "markdown",
      "metadata": {
        "id": "ompRMgR-8GWC"
      },
      "source": [
        "For SimCSE, we create our train_samples with InputExamples that consists of two times the same sentences, i.e.\n",
        "```\n",
        "train_samples = [InputExample(texts=[\"sent1\", \"sent1\"]), InputExample(texts=[\"sent2\", \"sent2\"]), ...]\n",
        "````\n"
      ]
    },
    {
      "cell_type": "code",
      "metadata": {
        "colab": {
          "base_uri": "https://localhost:8080/"
        },
        "id": "b89z7iDf6ndx",
        "outputId": "4b329d31-a3a8-4562-faf2-5b4fbc738d39"
      },
      "source": [
        "# Read the AllNLI.tsv.gz file and create the training dataset\n",
        "# We just pass sentence1 two times to InputExample and use MultipleNegativesRankingLoss\n",
        "logging.info(\"Read AllNLI train dataset\")\n",
        "train_samples = []\n",
        "with gzip.open(nli_dataset_path, 'rt', encoding='utf8') as fIn:\n",
        "    reader = csv.DictReader(fIn, delimiter='\\t', quoting=csv.QUOTE_NONE)\n",
        "    for row in reader:\n",
        "        if row['split'] == 'train':\n",
        "            train_samples.append(InputExample(texts=[row['sentence1'], row['sentence1']]))\n",
        "\n",
        "\n",
        "#Read STSbenchmark dataset and use it as development set\n",
        "logging.info(\"Read STSbenchmark dev dataset\")\n",
        "dev_samples = []\n",
        "with gzip.open(sts_dataset_path, 'rt', encoding='utf8') as fIn:\n",
        "    reader = csv.DictReader(fIn, delimiter='\\t', quoting=csv.QUOTE_NONE)\n",
        "    for row in reader:\n",
        "        if row['split'] == 'dev':\n",
        "            score = float(row['score']) / 5.0 #Normalize score to range 0 ... 1\n",
        "            dev_samples.append(InputExample(texts=[row['sentence1'], row['sentence2']], label=score))\n",
        "\n",
        "dev_evaluator = EmbeddingSimilarityEvaluator.from_input_examples(dev_samples, batch_size=8, name='sts-dev')"
      ],
      "execution_count": null,
      "outputs": [
        {
          "output_type": "stream",
          "text": [
            "2021-04-20 20:22:46 - Read AllNLI train dataset\n",
            "2021-04-20 20:22:55 - Read STSbenchmark dev dataset\n"
          ],
          "name": "stdout"
        }
      ]
    },
    {
      "cell_type": "markdown",
      "metadata": {
        "id": "UjP-oi3q8edk"
      },
      "source": [
        "As loss, we use: MultipleNegativesRankingLoss\n",
        "\n",
        "Here, texts[0] and texts[1] are considered as positive pair, while all others are negatives in a batch"
      ]
    },
    {
      "cell_type": "code",
      "metadata": {
        "colab": {
          "base_uri": "https://localhost:8080/",
          "height": 1000,
          "referenced_widgets": [
            "062d70cd78794e47ba8ab13f45a16402",
            "8d938bbfdaab440bb8d309f60ee883cf",
            "86d8d12811c7483ba140b5ace098799c",
            "08f93f75346549058d6056a420ab8e82",
            "3ba537e140f44b059721f17f11b19340",
            "67587012420b4c46be63f4e5b03cad11",
            "928fe685bca0446ebe7f8ed47cecca43",
            "2181deecd2504cafb5fd1b965671b1ad",
            "1a0863889bb24ae091b1afe6a603c7c1",
            "fe62666225ef40afb7c3c5325f775364",
            "77b1124e62114593b0ef0af1a427cfb3",
            "9fa71da836dd4eb9aceaf0dc6f702b90",
            "ff039499a5a348d9994d613d671c09fe",
            "a5d5642c40304b9094d27deabd1c8624",
            "1489a51530694e52a12f662476b67105",
            "2794f6f3ab574644af72f9ffd547e2b2"
          ]
        },
        "id": "d48Qq-hz6uIw",
        "outputId": "20877a32-7698-4918-9f95-55b10e234910"
      },
      "source": [
        "# Configure the training\n",
        "train_batch_size = 32\n",
        "num_epochs = 1\n",
        "\n",
        "# Use MultipleNegativesRankingLoss for SimCSE\n",
        "train_dataloader = DataLoader(train_samples, shuffle=True, batch_size=train_batch_size)\n",
        "train_loss = losses.MultipleNegativesRankingLoss(model)\n",
        "\n",
        "\n",
        "warmup_steps = math.ceil(len(train_dataloader) * num_epochs * 0.1) #10% of train data for warm-up\n",
        "logging.info(\"Warmup-steps: {}\".format(warmup_steps))\n",
        "\n",
        "logging.info(\"Performance before training\")\n",
        "dev_evaluator(model)\n",
        "\n",
        "# Train the model\n",
        "model.fit(train_objectives=[(train_dataloader, train_loss)],\n",
        "          evaluator=dev_evaluator,\n",
        "          epochs=num_epochs,\n",
        "          evaluation_steps=100,\n",
        "          warmup_steps=warmup_steps,\n",
        "          output_path=model_save_path\n",
        "          )\n"
      ],
      "execution_count": null,
      "outputs": [
        {
          "output_type": "stream",
          "text": [
            "2021-04-20 20:22:55 - Warmup-steps: 2944\n",
            "2021-04-20 20:22:55 - Performance before training\n",
            "2021-04-20 20:22:55 - EmbeddingSimilarityEvaluator: Evaluating the model on sts-dev dataset:\n",
            "2021-04-20 20:23:02 - Cosine-Similarity :\tPearson: 0.6599\tSpearman: 0.6764\n",
            "2021-04-20 20:23:02 - Manhattan-Distance:\tPearson: 0.6863\tSpearman: 0.6930\n",
            "2021-04-20 20:23:02 - Euclidean-Distance:\tPearson: 0.6860\tSpearman: 0.6928\n",
            "2021-04-20 20:23:02 - Dot-Product-Similarity:\tPearson: 0.3630\tSpearman: 0.3564\n"
          ],
          "name": "stdout"
        },
        {
          "output_type": "display_data",
          "data": {
            "application/vnd.jupyter.widget-view+json": {
              "model_id": "062d70cd78794e47ba8ab13f45a16402",
              "version_minor": 0,
              "version_major": 2
            },
            "text/plain": [
              "HBox(children=(FloatProgress(value=0.0, description='Epoch', max=1.0, style=ProgressStyle(description_width='i…"
            ]
          },
          "metadata": {
            "tags": []
          }
        },
        {
          "output_type": "display_data",
          "data": {
            "application/vnd.jupyter.widget-view+json": {
              "model_id": "1a0863889bb24ae091b1afe6a603c7c1",
              "version_minor": 0,
              "version_major": 2
            },
            "text/plain": [
              "HBox(children=(FloatProgress(value=0.0, description='Iteration', max=29440.0, style=ProgressStyle(description_…"
            ]
          },
          "metadata": {
            "tags": []
          }
        },
        {
          "output_type": "stream",
          "text": [
            "2021-04-20 20:23:38 - EmbeddingSimilarityEvaluator: Evaluating the model on sts-dev dataset in epoch 0 after 100 steps:\n",
            "2021-04-20 20:23:41 - Cosine-Similarity :\tPearson: 0.7153\tSpearman: 0.7239\n",
            "2021-04-20 20:23:41 - Manhattan-Distance:\tPearson: 0.7212\tSpearman: 0.7278\n",
            "2021-04-20 20:23:41 - Euclidean-Distance:\tPearson: 0.7206\tSpearman: 0.7276\n",
            "2021-04-20 20:23:41 - Dot-Product-Similarity:\tPearson: 0.4728\tSpearman: 0.4815\n",
            "2021-04-20 20:23:41 - Save model to output/training_simcse-2021-04-20_20-22-45\n",
            "2021-04-20 20:24:17 - EmbeddingSimilarityEvaluator: Evaluating the model on sts-dev dataset in epoch 0 after 200 steps:\n",
            "2021-04-20 20:24:20 - Cosine-Similarity :\tPearson: 0.7618\tSpearman: 0.7592\n",
            "2021-04-20 20:24:20 - Manhattan-Distance:\tPearson: 0.7497\tSpearman: 0.7523\n",
            "2021-04-20 20:24:20 - Euclidean-Distance:\tPearson: 0.7492\tSpearman: 0.7519\n",
            "2021-04-20 20:24:20 - Dot-Product-Similarity:\tPearson: 0.5892\tSpearman: 0.6102\n",
            "2021-04-20 20:24:20 - Save model to output/training_simcse-2021-04-20_20-22-45\n",
            "2021-04-20 20:24:56 - EmbeddingSimilarityEvaluator: Evaluating the model on sts-dev dataset in epoch 0 after 300 steps:\n",
            "2021-04-20 20:24:59 - Cosine-Similarity :\tPearson: 0.7650\tSpearman: 0.7606\n",
            "2021-04-20 20:24:59 - Manhattan-Distance:\tPearson: 0.7506\tSpearman: 0.7520\n",
            "2021-04-20 20:24:59 - Euclidean-Distance:\tPearson: 0.7502\tSpearman: 0.7520\n",
            "2021-04-20 20:24:59 - Dot-Product-Similarity:\tPearson: 0.6142\tSpearman: 0.6349\n",
            "2021-04-20 20:24:59 - Save model to output/training_simcse-2021-04-20_20-22-45\n",
            "2021-04-20 20:25:37 - EmbeddingSimilarityEvaluator: Evaluating the model on sts-dev dataset in epoch 0 after 400 steps:\n",
            "2021-04-20 20:25:40 - Cosine-Similarity :\tPearson: 0.7663\tSpearman: 0.7610\n",
            "2021-04-20 20:25:40 - Manhattan-Distance:\tPearson: 0.7501\tSpearman: 0.7508\n",
            "2021-04-20 20:25:40 - Euclidean-Distance:\tPearson: 0.7496\tSpearman: 0.7506\n",
            "2021-04-20 20:25:40 - Dot-Product-Similarity:\tPearson: 0.6260\tSpearman: 0.6458\n",
            "2021-04-20 20:25:40 - Save model to output/training_simcse-2021-04-20_20-22-45\n",
            "2021-04-20 20:26:14 - EmbeddingSimilarityEvaluator: Evaluating the model on sts-dev dataset in epoch 0 after 500 steps:\n",
            "2021-04-20 20:26:17 - Cosine-Similarity :\tPearson: 0.7656\tSpearman: 0.7594\n",
            "2021-04-20 20:26:17 - Manhattan-Distance:\tPearson: 0.7480\tSpearman: 0.7483\n",
            "2021-04-20 20:26:17 - Euclidean-Distance:\tPearson: 0.7473\tSpearman: 0.7481\n",
            "2021-04-20 20:26:17 - Dot-Product-Similarity:\tPearson: 0.6324\tSpearman: 0.6507\n",
            "2021-04-20 20:26:51 - EmbeddingSimilarityEvaluator: Evaluating the model on sts-dev dataset in epoch 0 after 600 steps:\n",
            "2021-04-20 20:26:54 - Cosine-Similarity :\tPearson: 0.7645\tSpearman: 0.7573\n",
            "2021-04-20 20:26:54 - Manhattan-Distance:\tPearson: 0.7464\tSpearman: 0.7466\n",
            "2021-04-20 20:26:54 - Euclidean-Distance:\tPearson: 0.7458\tSpearman: 0.7464\n",
            "2021-04-20 20:26:54 - Dot-Product-Similarity:\tPearson: 0.6373\tSpearman: 0.6549\n",
            "2021-04-20 20:27:31 - EmbeddingSimilarityEvaluator: Evaluating the model on sts-dev dataset in epoch 0 after 700 steps:\n",
            "2021-04-20 20:27:33 - Cosine-Similarity :\tPearson: 0.7634\tSpearman: 0.7555\n",
            "2021-04-20 20:27:33 - Manhattan-Distance:\tPearson: 0.7447\tSpearman: 0.7446\n",
            "2021-04-20 20:27:33 - Euclidean-Distance:\tPearson: 0.7439\tSpearman: 0.7442\n",
            "2021-04-20 20:27:33 - Dot-Product-Similarity:\tPearson: 0.6403\tSpearman: 0.6575\n",
            "2021-04-20 20:28:08 - EmbeddingSimilarityEvaluator: Evaluating the model on sts-dev dataset in epoch 0 after 800 steps:\n",
            "2021-04-20 20:28:11 - Cosine-Similarity :\tPearson: 0.7602\tSpearman: 0.7518\n",
            "2021-04-20 20:28:11 - Manhattan-Distance:\tPearson: 0.7399\tSpearman: 0.7398\n",
            "2021-04-20 20:28:11 - Euclidean-Distance:\tPearson: 0.7389\tSpearman: 0.7392\n",
            "2021-04-20 20:28:11 - Dot-Product-Similarity:\tPearson: 0.6419\tSpearman: 0.6586\n",
            "2021-04-20 20:28:48 - EmbeddingSimilarityEvaluator: Evaluating the model on sts-dev dataset in epoch 0 after 900 steps:\n",
            "2021-04-20 20:28:51 - Cosine-Similarity :\tPearson: 0.7591\tSpearman: 0.7506\n",
            "2021-04-20 20:28:51 - Manhattan-Distance:\tPearson: 0.7392\tSpearman: 0.7393\n",
            "2021-04-20 20:28:51 - Euclidean-Distance:\tPearson: 0.7381\tSpearman: 0.7387\n",
            "2021-04-20 20:28:51 - Dot-Product-Similarity:\tPearson: 0.6422\tSpearman: 0.6588\n",
            "2021-04-20 20:29:26 - EmbeddingSimilarityEvaluator: Evaluating the model on sts-dev dataset in epoch 0 after 1000 steps:\n",
            "2021-04-20 20:29:29 - Cosine-Similarity :\tPearson: 0.7558\tSpearman: 0.7469\n",
            "2021-04-20 20:29:29 - Manhattan-Distance:\tPearson: 0.7345\tSpearman: 0.7349\n",
            "2021-04-20 20:29:29 - Euclidean-Distance:\tPearson: 0.7332\tSpearman: 0.7339\n",
            "2021-04-20 20:29:29 - Dot-Product-Similarity:\tPearson: 0.6431\tSpearman: 0.6584\n",
            "2021-04-20 20:30:03 - EmbeddingSimilarityEvaluator: Evaluating the model on sts-dev dataset in epoch 0 after 1100 steps:\n",
            "2021-04-20 20:30:06 - Cosine-Similarity :\tPearson: 0.7545\tSpearman: 0.7455\n",
            "2021-04-20 20:30:06 - Manhattan-Distance:\tPearson: 0.7324\tSpearman: 0.7327\n",
            "2021-04-20 20:30:06 - Euclidean-Distance:\tPearson: 0.7310\tSpearman: 0.7316\n",
            "2021-04-20 20:30:06 - Dot-Product-Similarity:\tPearson: 0.6469\tSpearman: 0.6603\n",
            "2021-04-20 20:30:42 - EmbeddingSimilarityEvaluator: Evaluating the model on sts-dev dataset in epoch 0 after 1200 steps:\n",
            "2021-04-20 20:30:45 - Cosine-Similarity :\tPearson: 0.7515\tSpearman: 0.7424\n",
            "2021-04-20 20:30:45 - Manhattan-Distance:\tPearson: 0.7299\tSpearman: 0.7301\n",
            "2021-04-20 20:30:45 - Euclidean-Distance:\tPearson: 0.7284\tSpearman: 0.7288\n",
            "2021-04-20 20:30:45 - Dot-Product-Similarity:\tPearson: 0.6490\tSpearman: 0.6597\n",
            "2021-04-20 20:31:22 - EmbeddingSimilarityEvaluator: Evaluating the model on sts-dev dataset in epoch 0 after 1300 steps:\n",
            "2021-04-20 20:31:25 - Cosine-Similarity :\tPearson: 0.7505\tSpearman: 0.7412\n",
            "2021-04-20 20:31:25 - Manhattan-Distance:\tPearson: 0.7290\tSpearman: 0.7290\n",
            "2021-04-20 20:31:25 - Euclidean-Distance:\tPearson: 0.7278\tSpearman: 0.7283\n",
            "2021-04-20 20:31:25 - Dot-Product-Similarity:\tPearson: 0.6523\tSpearman: 0.6620\n",
            "2021-04-20 20:32:02 - EmbeddingSimilarityEvaluator: Evaluating the model on sts-dev dataset in epoch 0 after 1400 steps:\n",
            "2021-04-20 20:32:04 - Cosine-Similarity :\tPearson: 0.7466\tSpearman: 0.7376\n",
            "2021-04-20 20:32:04 - Manhattan-Distance:\tPearson: 0.7256\tSpearman: 0.7263\n",
            "2021-04-20 20:32:04 - Euclidean-Distance:\tPearson: 0.7242\tSpearman: 0.7250\n",
            "2021-04-20 20:32:04 - Dot-Product-Similarity:\tPearson: 0.6497\tSpearman: 0.6593\n",
            "2021-04-20 20:32:41 - EmbeddingSimilarityEvaluator: Evaluating the model on sts-dev dataset in epoch 0 after 1500 steps:\n",
            "2021-04-20 20:32:43 - Cosine-Similarity :\tPearson: 0.7461\tSpearman: 0.7370\n",
            "2021-04-20 20:32:43 - Manhattan-Distance:\tPearson: 0.7251\tSpearman: 0.7257\n",
            "2021-04-20 20:32:43 - Euclidean-Distance:\tPearson: 0.7236\tSpearman: 0.7247\n",
            "2021-04-20 20:32:43 - Dot-Product-Similarity:\tPearson: 0.6538\tSpearman: 0.6620\n",
            "2021-04-20 20:33:18 - EmbeddingSimilarityEvaluator: Evaluating the model on sts-dev dataset in epoch 0 after 1600 steps:\n",
            "2021-04-20 20:33:20 - Cosine-Similarity :\tPearson: 0.7490\tSpearman: 0.7396\n",
            "2021-04-20 20:33:20 - Manhattan-Distance:\tPearson: 0.7278\tSpearman: 0.7285\n",
            "2021-04-20 20:33:20 - Euclidean-Distance:\tPearson: 0.7265\tSpearman: 0.7277\n",
            "2021-04-20 20:33:20 - Dot-Product-Similarity:\tPearson: 0.6597\tSpearman: 0.6670\n"
          ],
          "name": "stdout"
        }
      ]
    },
    {
      "cell_type": "code",
      "metadata": {
        "id": "UXUsikOc6oiB"
      },
      "source": [
        "\n",
        "\n",
        "##############################################################################\n",
        "#\n",
        "# Load the stored model and evaluate its performance on STS benchmark dataset\n",
        "#\n",
        "##############################################################################\n",
        "\n",
        "test_samples = []\n",
        "with gzip.open(sts_dataset_path, 'rt', encoding='utf8') as fIn:\n",
        "    reader = csv.DictReader(fIn, delimiter='\\t', quoting=csv.QUOTE_NONE)\n",
        "    for row in reader:\n",
        "        if row['split'] == 'test':\n",
        "            score = float(row['score']) / 5.0 #Normalize score to range 0 ... 1\n",
        "            test_samples.append(InputExample(texts=[row['sentence1'], row['sentence2']], label=score))\n",
        "\n",
        "model = SentenceTransformer(model_save_path)\n",
        "test_evaluator = EmbeddingSimilarityEvaluator.from_input_examples(test_samples, batch_size=train_batch_size, name='sts-test')\n",
        "test_evaluator(model, output_path=model_save_path)"
      ],
      "execution_count": null,
      "outputs": []
    }
  ]
}